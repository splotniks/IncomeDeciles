{
 "cells": [
  {
   "cell_type": "code",
   "execution_count": 1,
   "id": "b64f3e3a",
   "metadata": {},
   "outputs": [],
   "source": [
    "import inequality_widget as iw"
   ]
  },
  {
   "cell_type": "code",
   "execution_count": 2,
   "id": "445f798d",
   "metadata": {},
   "outputs": [
    {
     "data": {
      "application/vnd.jupyter.widget-view+json": {
       "model_id": "ac34aa2c57fd45008167711c810a4c4c",
       "version_major": 2,
       "version_minor": 0
      },
      "text/plain": [
       "VBox(children=(HTML(value='<h2>Income deciles for a specified country</h2>\\n                    \\n            …"
      ]
     },
     "metadata": {},
     "output_type": "display_data"
    }
   ],
   "source": [
    "iw.IncomeDeciles.create().container"
   ]
  }
 ],
 "metadata": {
  "kernelspec": {
   "display_name": "Python 3",
   "language": "python",
   "name": "python3"
  },
  "language_info": {
   "codemirror_mode": {
    "name": "ipython",
    "version": 3
   },
   "file_extension": ".py",
   "mimetype": "text/x-python",
   "name": "python",
   "nbconvert_exporter": "python",
   "pygments_lexer": "ipython3",
   "version": "3.7.4"
  }
 },
 "nbformat": 4,
 "nbformat_minor": 5
}
